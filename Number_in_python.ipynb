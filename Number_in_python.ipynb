{
  "nbformat": 4,
  "nbformat_minor": 0,
  "metadata": {
    "colab": {
      "provenance": [],
      "authorship_tag": "ABX9TyPZbKwyxNTVGHuzLWHZbGqE",
      "include_colab_link": true
    },
    "kernelspec": {
      "name": "python3",
      "display_name": "Python 3"
    },
    "language_info": {
      "name": "python"
    }
  },
  "cells": [
    {
      "cell_type": "markdown",
      "metadata": {
        "id": "view-in-github",
        "colab_type": "text"
      },
      "source": [
        "<a href=\"https://colab.research.google.com/github/saubhagyamaurya/Python-Tutorial/blob/main/Number_in_python.ipynb\" target=\"_parent\"><img src=\"https://colab.research.google.com/assets/colab-badge.svg\" alt=\"Open In Colab\"/></a>"
      ]
    },
    {
      "cell_type": "code",
      "execution_count": 24,
      "metadata": {
        "colab": {
          "base_uri": "https://localhost:8080/"
        },
        "id": "Tv6aWSXuCO1c",
        "outputId": "40c9b352-95a6-4126-e697-6814fefe5d2d"
      },
      "outputs": [
        {
          "output_type": "stream",
          "name": "stdout",
          "text": [
            "Sum =  35\n",
            "Sub =  22\n",
            "Mul =  50\n",
            "Div =  4.8\n",
            "Int Div =  4\n",
            "Remender =  1\n",
            "1st example =  27\n",
            "2nd example =  16\n"
          ]
        }
      ],
      "source": [
        "# In number operation we can do all kind of numerical operation.\n",
        "\n",
        "#sum\n",
        "print(\"Sum = \",22+13)\n",
        "\n",
        "#sub\n",
        "print(\"Sub = \",35-13)\n",
        "\n",
        "#mul\n",
        "print(\"Mul = \" ,10*5)\n",
        "\n",
        "#div\n",
        "print(\"Div = \",24/5)\n",
        "\n",
        "#integer div\n",
        "print(\"Int Div = \",24//5)\n",
        "\n",
        "#remender \n",
        "print(\"Remender = \",25%3)\n",
        "\n",
        "#power (here ** is power singn firt number is value and second is power)\n",
        "print(\"1st example = \",3**3)        # Here 3 X 3 X 3\n",
        "\n",
        "print(\"2nd example = \",2**4)        # Here 2 X 2 X 2 X 2\n",
        "\n"
      ]
    },
    {
      "cell_type": "code",
      "source": [
        "# Let's solve a simple Speed problem here we have distance and time and try to find out the speed.\n",
        "\n",
        "distance = 20\n",
        "time = 3\n",
        "\n",
        "speed = distance / time \n",
        "print(\"Speed = \",speed)\n",
        "\n",
        "print(\"Answer give use long value after point so try to round of this\")\n",
        "\n",
        "\"\"\" For round the value we use 'round' keyword which are predifine function and here is two parameter\n",
        "1st is variable which you want to round of 2nd is how many digit you want after point\"\"\"\n",
        "\n",
        "print(\"Round of 2 = \",round(speed,2)) # here we print 2 digit after point\n",
        "\n",
        "print(\"Round of 3 = \",round(speed,3)) # here we print 3 digit after point\n",
        "\n",
        "\n"
      ],
      "metadata": {
        "colab": {
          "base_uri": "https://localhost:8080/"
        },
        "id": "kOlqfvJbFZ18",
        "outputId": "3aad8098-b1aa-4477-b874-2b54826b3635"
      },
      "execution_count": 27,
      "outputs": [
        {
          "output_type": "stream",
          "name": "stdout",
          "text": [
            "Speed =  6.666666666666667\n",
            "Answer give use long value after point so try to round of this\n",
            "Round of 2 =  6.67\n",
            "Round of 3 =  6.667\n"
          ]
        }
      ]
    },
    {
      "cell_type": "code",
      "source": [
        "# we can perform multiple math operator problem together and it's follow BODMAS rule\n",
        "\n",
        "print (10+2*2)\n",
        "print (22+6-4*2/2)\n",
        "print ((10+2)*3)"
      ],
      "metadata": {
        "colab": {
          "base_uri": "https://localhost:8080/"
        },
        "id": "VIimvlnLHidW",
        "outputId": "a5c77b69-0185-4c0e-db37-f0d5caf9d768"
      },
      "execution_count": 28,
      "outputs": [
        {
          "output_type": "stream",
          "name": "stdout",
          "text": [
            "14\n",
            "24.0\n",
            "36\n"
          ]
        }
      ]
    }
  ]
}