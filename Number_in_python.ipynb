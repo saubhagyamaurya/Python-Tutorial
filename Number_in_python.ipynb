{
  "nbformat": 4,
  "nbformat_minor": 0,
  "metadata": {
    "colab": {
      "provenance": [],
      "authorship_tag": "ABX9TyOz8DIbxXo0P/Vpoh44lZXz",
      "include_colab_link": true
    },
    "kernelspec": {
      "name": "python3",
      "display_name": "Python 3"
    },
    "language_info": {
      "name": "python"
    }
  },
  "cells": [
    {
      "cell_type": "markdown",
      "metadata": {
        "id": "view-in-github",
        "colab_type": "text"
      },
      "source": [
        "<a href=\"https://colab.research.google.com/github/saubhagyamaurya/Python-Tutorial/blob/main/Number_in_python.ipynb\" target=\"_parent\"><img src=\"https://colab.research.google.com/assets/colab-badge.svg\" alt=\"Open In Colab\"/></a>"
      ]
    },
    {
      "cell_type": "code",
      "execution_count": 5,
      "metadata": {
        "colab": {
          "base_uri": "https://localhost:8080/"
        },
        "id": "Tv6aWSXuCO1c",
        "outputId": "6b543af6-beea-40ea-baad-1be2ee17041e"
      },
      "outputs": [
        {
          "output_type": "stream",
          "name": "stdout",
          "text": [
            "35\n",
            "22\n",
            "50\n",
            "4.0\n",
            "1\n"
          ]
        }
      ],
      "source": [
        "# In number operation we can do all kind of numerical operation.\n",
        "\n",
        "#sum\n",
        "print(22+13)\n",
        "\n",
        "#sub\n",
        "print(35-13)\n",
        "\n",
        "#mul\n",
        "print(10*5)\n",
        "\n",
        "#div\n",
        "print(24/6)\n",
        "\n",
        "#remender \n",
        "print(25%3)"
      ]
    }
  ]
}