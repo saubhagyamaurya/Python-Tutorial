{
  "nbformat": 4,
  "nbformat_minor": 0,
  "metadata": {
    "colab": {
      "provenance": [],
      "authorship_tag": "ABX9TyNeYUNkhIp2G+TZFGm9s5am",
      "include_colab_link": true
    },
    "kernelspec": {
      "name": "python3",
      "display_name": "Python 3"
    },
    "language_info": {
      "name": "python"
    }
  },
  "cells": [
    {
      "cell_type": "markdown",
      "metadata": {
        "id": "view-in-github",
        "colab_type": "text"
      },
      "source": [
        "<a href=\"https://colab.research.google.com/github/saubhagyamaurya/Python-Tutorial/blob/main/Variables_in_python.ipynb\" target=\"_parent\"><img src=\"https://colab.research.google.com/assets/colab-badge.svg\" alt=\"Open In Colab\"/></a>"
      ]
    },
    {
      "cell_type": "code",
      "execution_count": 2,
      "metadata": {
        "colab": {
          "base_uri": "https://localhost:8080/"
        },
        "id": "QBMYQ-NI8hLs",
        "outputId": "d3adc8b7-0836-4929-9716-94c2be4c5846"
      },
      "outputs": [
        {
          "output_type": "stream",
          "name": "stdout",
          "text": [
            "12000\n"
          ]
        }
      ],
      "source": [
        "#Let's Consider a example like you try to find out your monthly total exenses like grocery, gas, rent etc.\n",
        "\n",
        "# for variable declration left side of = give the variable name like rent, gas etc and right side give the value. \n",
        "\n",
        "rent = 12000\n",
        "gas = 1200\n",
        "groceries = 3500\n",
        "\n",
        "# print the value of variable\n",
        "\n",
        "print(rent)\n"
      ]
    }
  ]
}