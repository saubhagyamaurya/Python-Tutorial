{
  "nbformat": 4,
  "nbformat_minor": 0,
  "metadata": {
    "colab": {
      "provenance": [],
      "authorship_tag": "ABX9TyPZq9UZbAUq1pp1Hszfsj3F",
      "include_colab_link": true
    },
    "kernelspec": {
      "name": "python3",
      "display_name": "Python 3"
    },
    "language_info": {
      "name": "python"
    }
  },
  "cells": [
    {
      "cell_type": "markdown",
      "metadata": {
        "id": "view-in-github",
        "colab_type": "text"
      },
      "source": [
        "<a href=\"https://colab.research.google.com/github/saubhagyamaurya/Python-Tutorial/blob/main/Variables_in_python.ipynb\" target=\"_parent\"><img src=\"https://colab.research.google.com/assets/colab-badge.svg\" alt=\"Open In Colab\"/></a>"
      ]
    },
    {
      "cell_type": "code",
      "execution_count": 10,
      "metadata": {
        "colab": {
          "base_uri": "https://localhost:8080/"
        },
        "id": "QBMYQ-NI8hLs",
        "outputId": "65049108-a292-450d-de33-4dbf5703c530"
      },
      "outputs": [
        {
          "output_type": "stream",
          "name": "stdout",
          "text": [
            "12000\n"
          ]
        }
      ],
      "source": [
        "#Let's Consider a example like you try to find out your monthly total exenses like grocery, gas, rent etc.\n",
        "\n",
        "# for variable declration left side of = give the variable name like rent, gas etc and right side give the value. \n",
        "\n",
        "rent = 12000\n",
        "gas = 1200\n",
        "groceries = 3500\n",
        "\n",
        "# print the value of variable\n",
        "\n",
        "print(rent)\n",
        "\n",
        "\n"
      ]
    },
    {
      "cell_type": "code",
      "source": [
        "\n",
        "# for finding total we instlize one more variable 'total'\n",
        "\n",
        "total = rent + gas + groceries\n",
        "\n",
        "print(total)"
      ],
      "metadata": {
        "colab": {
          "base_uri": "https://localhost:8080/"
        },
        "id": "1EFa91FLA21-",
        "outputId": "78c93800-51fa-41a1-fd2b-0fb4cc95df7a"
      },
      "execution_count": 11,
      "outputs": [
        {
          "output_type": "stream",
          "name": "stdout",
          "text": [
            "16700\n"
          ]
        }
      ]
    },
    {
      "cell_type": "code",
      "source": [
        "# assign any variable value in other new variable.\n",
        "\n",
        "item1 = rent\n",
        "item2 = gas\n",
        "item3 = groceries\n",
        "\n",
        "print(\"After assign the old variable in new variable = \", \"rent = \",item1 , \" gas = \",item2, \" groceries = \",item3)\n"
      ],
      "metadata": {
        "colab": {
          "base_uri": "https://localhost:8080/"
        },
        "id": "xIVjoLfwA-_X",
        "outputId": "54c45837-f054-4033-bc57-70d52f38f498"
      },
      "execution_count": 14,
      "outputs": [
        {
          "output_type": "stream",
          "name": "stdout",
          "text": [
            "After assign the old variable in new variable =  rent =  12000  gas =  1200  groceries =  3500\n"
          ]
        }
      ]
    }
  ]
}