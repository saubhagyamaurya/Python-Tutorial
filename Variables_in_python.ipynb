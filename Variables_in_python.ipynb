{
  "nbformat": 4,
  "nbformat_minor": 0,
  "metadata": {
    "colab": {
      "provenance": [],
      "authorship_tag": "ABX9TyOCeUtJ051T2jFqHCggKVOy",
      "include_colab_link": true
    },
    "kernelspec": {
      "name": "python3",
      "display_name": "Python 3"
    },
    "language_info": {
      "name": "python"
    }
  },
  "cells": [
    {
      "cell_type": "markdown",
      "metadata": {
        "id": "view-in-github",
        "colab_type": "text"
      },
      "source": [
        "<a href=\"https://colab.research.google.com/github/saubhagyamaurya/Python-Tutorial/blob/main/Variables_in_python.ipynb\" target=\"_parent\"><img src=\"https://colab.research.google.com/assets/colab-badge.svg\" alt=\"Open In Colab\"/></a>"
      ]
    },
    {
      "cell_type": "code",
      "execution_count": 6,
      "metadata": {
        "colab": {
          "base_uri": "https://localhost:8080/"
        },
        "id": "QBMYQ-NI8hLs",
        "outputId": "ae62760e-4ed6-4848-aae2-1f0b47657dc3"
      },
      "outputs": [
        {
          "output_type": "stream",
          "name": "stdout",
          "text": [
            "12000\n",
            "16700\n",
            "After assign the old variable in new variable =  rent =  12000  gas =  groceries =  3500\n"
          ]
        }
      ],
      "source": [
        "#Let's Consider a example like you try to find out your monthly total exenses like grocery, gas, rent etc.\n",
        "\n",
        "# for variable declration left side of = give the variable name like rent, gas etc and right side give the value. \n",
        "\n",
        "rent = 12000\n",
        "gas = 1200\n",
        "groceries = 3500\n",
        "\n",
        "# print the value of variable\n",
        "\n",
        "print(rent)\n",
        "\n",
        "\n"
      ]
    },
    {
      "cell_type": "code",
      "source": [
        "\n",
        "# for finding total we instlize one more variable 'total'\n",
        "\n",
        "total = rent + gas + groceries\n",
        "\n",
        "print(total)"
      ],
      "metadata": {
        "colab": {
          "base_uri": "https://localhost:8080/"
        },
        "id": "1EFa91FLA21-",
        "outputId": "9057f289-9a1f-45b8-9e1a-c61dfc1e2fc1"
      },
      "execution_count": 8,
      "outputs": [
        {
          "output_type": "stream",
          "name": "stdout",
          "text": [
            "16700\n"
          ]
        }
      ]
    },
    {
      "cell_type": "code",
      "source": [
        "# assign any variable value in other new variable.\n",
        "\n",
        "item1 = rent\n",
        "item2 = gas\n",
        "item3 = groceries\n",
        "\n",
        "print(\"After assign the old variable in new variable = \", \"rent = \",item1 , \" gas = \", \"groceries = \",groceries)\n"
      ],
      "metadata": {
        "colab": {
          "base_uri": "https://localhost:8080/"
        },
        "id": "xIVjoLfwA-_X",
        "outputId": "dd4e9e73-3495-4685-89a9-508fbcf9f7a4"
      },
      "execution_count": 9,
      "outputs": [
        {
          "output_type": "stream",
          "name": "stdout",
          "text": [
            "After assign the old variable in new variable =  rent =  12000  gas =  groceries =  3500\n"
          ]
        }
      ]
    }
  ]
}